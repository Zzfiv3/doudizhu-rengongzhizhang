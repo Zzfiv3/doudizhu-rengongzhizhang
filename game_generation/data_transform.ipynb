{
 "metadata": {
  "language_info": {
   "codemirror_mode": {
    "name": "ipython",
    "version": 3
   },
   "file_extension": ".py",
   "mimetype": "text/x-python",
   "name": "python",
   "nbconvert_exporter": "python",
   "pygments_lexer": "ipython3",
   "version": "3.9.2"
  },
  "orig_nbformat": 2,
  "kernelspec": {
   "name": "python392jvsc74a57bd0aee8b7b246df8f9039afb4144a1f6fd8d2ca17a180786b69acc140d282b71a49",
   "display_name": "Python 3.9.2 64-bit"
  },
  "metadata": {
   "interpreter": {
    "hash": "aee8b7b246df8f9039afb4144a1f6fd8d2ca17a180786b69acc140d282b71a49"
   }
  }
 },
 "nbformat": 4,
 "nbformat_minor": 2,
 "cells": [
  {
   "cell_type": "code",
   "execution_count": 1,
   "metadata": {},
   "outputs": [],
   "source": [
    "import pandas as pd\n",
    "import numpy as np\n",
    "import torch\n",
    "from functools import reduce"
   ]
  },
  {
   "cell_type": "code",
   "execution_count": 2,
   "metadata": {},
   "outputs": [],
   "source": [
    "def str_to_dict(s):\n",
    "    card_count = {\n",
    "        '3': 0, '4': 0, '5': 0, '6': 0, '7': 0, \n",
    "        '8': 0, '9': 0, 'T': 0, 'J': 0, 'Q': 0, \n",
    "        'K': 0, 'A': 0, '2': 0, 'S': 0, 'B': 0\n",
    "    }\n",
    "    for i in s:\n",
    "        card_count[i] += 1\n",
    "    return card_count"
   ]
  },
  {
   "cell_type": "code",
   "execution_count": 3,
   "metadata": {},
   "outputs": [],
   "source": [
    "def row_to_X(data, row_index):\n",
    "    primal_str = game_data.loc[row_index, 'primal_str']\n",
    "    primal_type = game_data.loc[row_index, 'primal_type']\n",
    "    combo_str = data.loc[row_index, 'combo_str']\n",
    "    up_str = data.loc[row_index, 'up_str']\n",
    "    current_str = data.loc[row_index, 'current_str']\n",
    "    down_str = data.loc[row_index, 'down_str']\n",
    "\n",
    "    # get all cards in hand\n",
    "    all_cards_in_hand = np.zeros((20, 15, 1), dtype=int)\n",
    "    if isinstance(combo_str, str) and isinstance(up_str, str):\n",
    "        card_dict = str_to_dict(combo_str + up_str)\n",
    "        for card, num in card_dict.items():\n",
    "            if num == 0:\n",
    "                continue\n",
    "            col = card_pos[card]\n",
    "            row = {1: 16, 2: 17, 3: 18, 4: 19}[num]\n",
    "            all_cards_in_hand[row, col, 0] = 1\n",
    "    # print(all_cards_in_hand)\n",
    "\n",
    "    # all the cards have not been seen\n",
    "    all_cards_not_seen = np.zeros((20, 15, 1), dtype=int)\n",
    "    if isinstance(current_str, str) and isinstance(down_str, str):\n",
    "        card_dict = str_to_dict(current_str + down_str)\n",
    "        for card, num in card_dict.items():\n",
    "            if num == 0:\n",
    "                continue\n",
    "            col = card_pos[card]\n",
    "            row = {1: 16, 2: 17, 3: 18, 4: 19}[num]\n",
    "            all_cards_not_seen[row, col, 0] = 1\n",
    "    # print(all_cards_not_seen)\n",
    "\n",
    "    # last six round\n",
    "    last_six_round = np.zeros((20, 15, 18), dtype=int)\n",
    "    current_row = row_index\n",
    "    channel_index = 17\n",
    "    while current_row >= 0 and channel_index >= 0:\n",
    "        primal_str = game_data.loc[current_row, 'primal_str']\n",
    "        primal_type = game_data.loc[current_row, 'primal_type']\n",
    "        if isinstance(primal_str, str):\n",
    "            for i in primal_str:\n",
    "                last_six_round[primal_type, card_pos[i], channel_index] = 1\n",
    "        current_row -= 1\n",
    "        channel_index -= 1\n",
    "\n",
    "    # all cards before previous six round\n",
    "    all_cards_before = np.zeros((20, 15, 1), dtype=int)\n",
    "    if current_row > 0:\n",
    "        cards_played = ''\n",
    "        for i in range(current_row):\n",
    "            primal_str = game_data.loc[i, 'primal_str']\n",
    "            if isinstance(primal_str, str):\n",
    "                cards_played += primal_str\n",
    "        card_dict = str_to_dict(cards_played)\n",
    "        for card, num in card_dict.items():\n",
    "            if num == 0:\n",
    "                continue\n",
    "            col = card_pos[card]\n",
    "            row = {1: 16, 2: 17, 3: 18, 4: 19}[num]\n",
    "            all_cards_before[row, col, 0] = 1\n",
    "\n",
    "    # construct X\n",
    "    X = np.concatenate([\n",
    "        all_cards_before, last_six_round, \n",
    "        all_cards_not_seen, all_cards_in_hand\n",
    "    ], axis=2).reshape((20, 15, 21, 1))\n",
    "\n",
    "    return X"
   ]
  },
  {
   "cell_type": "code",
   "execution_count": 4,
   "metadata": {},
   "outputs": [],
   "source": [
    "def row_to_y(data, row_index, primal_out):\n",
    "    primal_str = game_data.loc[row_index, 'primal_str']\n",
    "    y = np.zeros((len(primal_out), 1))\n",
    "    hot_pos = 0 if not isinstance(primal_str, str) \\\n",
    "        else primal_out.loc[primal_out.primal == primal_str, 'out_code']\n",
    "    y[hot_pos] = 1\n",
    "    return y.reshape((309, 1, 1))"
   ]
  },
  {
   "cell_type": "code",
   "execution_count": 5,
   "metadata": {},
   "outputs": [],
   "source": [
    "def get_game_sample(game_data, primal_out):\n",
    "    X = reduce(lambda x, y: np.concatenate([x, y], axis=3),\n",
    "               [row_to_X(game_data, i) for i in range(len(game_data))])\n",
    "    y = reduce(lambda x, y: np.concatenate([x, y], axis=2),\n",
    "               [row_to_y(game_data, i, primal_out) for i in range(len(game_data))])\n",
    "    return X, y"
   ]
  },
  {
   "cell_type": "code",
   "execution_count": 6,
   "metadata": {},
   "outputs": [
    {
     "output_type": "stream",
     "name": "stdout",
     "text": [
      "(20, 15, 21, 736) (309, 1, 736)\n"
     ]
    }
   ],
   "source": [
    "data = pd.read_csv('sample_game_data.csv')\n",
    "primal_out = pd.read_csv('primal_out.csv')\n",
    "card_pos = {'3': 0, '4': 1, '5': 2, '6': 3, \n",
    "            '7': 4, '8': 5, '9': 6, 'T': 7, \n",
    "            'J': 8, 'Q': 9, 'K': 10, 'A': 11, \n",
    "            '2': 12, 'S': 13, 'B': 14}\n",
    "\n",
    "game_data = data.loc[data.game_no == 1, :]\n",
    "X_all, y_all = get_game_sample(game_data, primal_out)\n",
    "for game_no in np.unique(data.game_no)[1:]:\n",
    "    game_data = data.loc[data.game_no == game_no, :].reset_index()\n",
    "    X, y = get_game_sample(game_data, primal_out)\n",
    "    X_all = np.concatenate([X_all, X], axis=3)\n",
    "    y_all = np.concatenate([y_all, y], axis=2)\n",
    "\n",
    "print(X_all.shape, y_all.shape)"
   ]
  },
  {
   "cell_type": "code",
   "execution_count": null,
   "metadata": {},
   "outputs": [],
   "source": []
  }
 ]
}